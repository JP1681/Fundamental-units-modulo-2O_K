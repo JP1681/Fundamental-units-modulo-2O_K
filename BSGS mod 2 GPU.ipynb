{
 "cells": [
  {
   "cell_type": "code",
   "execution_count": 1,
   "id": "dd88be9a-3a5b-4ecd-8a09-cfeac75b5039",
   "metadata": {},
   "outputs": [],
   "source": [
    "import math\n",
    "import numpy as np\n",
    "import time\n",
    "import pandas as pd\n",
    "import pyopencl as cl\n",
    "import matplotlib.pyplot as plt\n",
    "from string import Template\n",
    "def primes(n):\n",
    "    x = np.ones((n+1,), dtype=bool)\n",
    "    x[0] = False\n",
    "    x[1] = False\n",
    "    x[4::2] = False\n",
    "    for i in range(3, int(n**0.5)+1):\n",
    "        if x[i]:\n",
    "            x[i*i::2*i] = False\n",
    "    primes = np.where(x == True)[0]\n",
    "    return primes\n",
    "\n",
    "def primes5M8(n,pList): #pList shouldn't include 2\n",
    "    x = np.ones(((n-5)//8+1,), dtype=bool)\n",
    "    for i in pList:\n",
    "        #x[int((i+5)*(i-1)/8)::i] = False\n",
    "        x[int(i*(i+4)/8)::i] = False\n",
    "    return x\n",
    "\n",
    "def squarefree5M8(n,pList): #pList shouldn't include 2\n",
    "    x = np.ones(((n-5)//8+1,), dtype=bool)\n",
    "    for i in pList:\n",
    "        k=i*i\n",
    "        x[int((5*k-5)/8)::k] = False\n",
    "    return 5,x\n",
    "\n",
    "def squarefree5M8Partial(a,b,pList): #pList shouldn't include 2, and a should be 5 mod 8\n",
    "    A = int((a-5)/8)\n",
    "    #B = int((b-5)/8)\n",
    "    x = np.ones((b-a)//8+1, dtype=bool)\n",
    "    for p in pList:\n",
    "        k=p*p\n",
    "        t = math.ceil((a/k-5)/8)\n",
    "        #nextMultipleIndex = ((t*8+5)*k-a)//8\n",
    "        testNMI = t*k - A + math.floor(5*(k-1)/8)\n",
    "        #print(nextMultipleIndex,testNMI)\n",
    "        x[testNMI::k] = False\n",
    "    return a,x\n",
    "        \n",
    "def squarefreeFull(n):\n",
    "    return getBlock(squarefree5M8(n,primes(int(n**0.5)+1)[1:]))\n",
    "\n",
    "def primesFull(n):\n",
    "    return getBlock(primes5M8(n,primes(int(n**0.5)+1)[1:]))\n",
    "\n",
    "def getBlock(min,x,all=True,blockSize=0,blockID=0):\n",
    "    if all:\n",
    "        return (np.where(x==True)[0])*8+min\n",
    "    l = len(x)\n",
    "    start = blockSize * blockID\n",
    "    end = start + blockSize\n",
    "    if start >= l:\n",
    "        return -1\n",
    "    if end >= l:\n",
    "        xpart = x[start:]\n",
    "    else:\n",
    "        xpart = x[start:end]\n",
    "    return (np.where(xpart==True)[0]+start)*8+min"
   ]
  },
  {
   "cell_type": "code",
   "execution_count": 14,
   "id": "94f25cb9-d8f8-4b35-8b02-1d69a2d8fe98",
   "metadata": {
    "scrolled": true
   },
   "outputs": [],
   "source": [
    "def unitsGPU(array,options):\n",
    "    count = len(array)\n",
    "    print(count, \"values from\", array[0], \"to\", array[-1])\n",
    "    result = np.zeros(count,dtype=np.int32)\n",
    "    bstep = np.zeros(count,dtype=np.int32)\n",
    "    gstep = np.zeros(count,dtype=np.int32)\n",
    "    \n",
    "    context = cl.create_some_context()\n",
    "    queue = cl.CommandQueue(context,properties=cl.command_queue_properties.PROFILING_ENABLE)\n",
    "    with open(\"bsgs5mod8GPU_sort_NUCOMP_vdP_Bloom.c\",\"r\") as file:\n",
    "        program_src = Template(file.read()).substitute(options)\n",
    "    program = cl.Program(context, program_src).build()\n",
    "    \n",
    "    array_buf = cl.Buffer(context, cl.mem_flags.READ_ONLY | cl.mem_flags.COPY_HOST_PTR, hostbuf=array)\n",
    "    result_buf = cl.Buffer(context, cl.mem_flags.WRITE_ONLY | cl.mem_flags.COPY_HOST_PTR, hostbuf=result)\n",
    "    bstep_buf = cl.Buffer(context, cl.mem_flags.WRITE_ONLY | cl.mem_flags.COPY_HOST_PTR, hostbuf=bstep)\n",
    "    gstep_buf = cl.Buffer(context, cl.mem_flags.WRITE_ONLY | cl.mem_flags.COPY_HOST_PTR, hostbuf=gstep)\n",
    "    \n",
    "    kernel = program.sum_array\n",
    "    kernel.set_arg(0, array_buf)\n",
    "    kernel.set_arg(1, result_buf)\n",
    "    kernel.set_arg(2, bstep_buf)\n",
    "    kernel.set_arg(3, gstep_buf)\n",
    "    global_size = (count,)\n",
    "    \n",
    "    t1 = time.time()\n",
    "    cl.enqueue_nd_range_kernel(queue, kernel, global_size, None)\n",
    "    cl.enqueue_copy(queue, result, result_buf)\n",
    "    cl.enqueue_copy(queue, bstep, bstep_buf)\n",
    "    cl.enqueue_copy(queue, gstep, gstep_buf)\n",
    "    queue.finish()\n",
    "    t2 = time.time()\n",
    "\n",
    "    print(\"Finished in\", t2-t1, \"seconds.\")\n",
    "    \n",
    "    del array_buf\n",
    "    del result_buf\n",
    "    del kernel\n",
    "    del program\n",
    "    del queue\n",
    "    del context\n",
    "    return result,bstep,gstep\n"
   ]
  },
  {
   "cell_type": "code",
   "execution_count": 3,
   "id": "584acf4f",
   "metadata": {},
   "outputs": [],
   "source": [
    "maximum = (10**11)\n",
    "sieveBlockSize = 2*(10**9)"
   ]
  },
  {
   "cell_type": "code",
   "execution_count": null,
   "id": "27b64dd4-52f2-4e15-9a37-f057ea35a833",
   "metadata": {},
   "outputs": [
    {
     "name": "stdout",
     "output_type": "stream",
     "text": [
      "Sieved in 7.699926853179932 seconds\n",
      "Sieved in 3.812703847885132 seconds\n",
      "Sieved in 4.770315408706665 seconds\n",
      "Sieved in 5.0091471672058105 seconds\n",
      "Sieved in 4.637627363204956 seconds\n",
      "Sieved in 5.28813099861145 seconds\n",
      "Sieved in 5.73832368850708 seconds\n",
      "Sieved in 4.216253042221069 seconds\n",
      "Sieved in 3.483208417892456 seconds\n",
      "Sieved in 2.3445358276367188 seconds\n",
      "Sieved in 2.8185172080993652 seconds\n",
      "Sieved in 3.9571502208709717 seconds\n",
      "Sieved in 4.285348653793335 seconds\n",
      "Sieved in 4.414165258407593 seconds\n",
      "Sieved in 9.810021877288818 seconds\n",
      "Sieved in 7.296102046966553 seconds\n",
      "Sieved in 5.755092620849609 seconds\n",
      "Sieved in 5.616697788238525 seconds\n",
      "Sieved in 5.089153289794922 seconds\n",
      "Sieved in 4.397475242614746 seconds\n",
      "Sieved in 3.65501070022583 seconds\n",
      "Sieved in 3.449648857116699 seconds\n",
      "Sieved in 4.159335613250732 seconds\n",
      "Sieved in 4.786479234695435 seconds\n",
      "Sieved in 5.113647937774658 seconds\n",
      "Sieved in 5.151026010513306 seconds\n",
      "Sieved in 5.46660304069519 seconds\n",
      "Sieved in 5.516543626785278 seconds\n",
      "Sieved in 5.761082887649536 seconds\n",
      "Sieved in 6.002404689788818 seconds\n",
      "Sieved in 6.0256028175354 seconds\n",
      "Sieved in 5.839032173156738 seconds\n",
      "Sieved in 5.306541442871094 seconds\n",
      "Sieved in 5.34776496887207 seconds\n",
      "Sieved in 5.661820650100708 seconds\n",
      "Sieved in 5.314735174179077 seconds\n",
      "Sieved in 11.081167221069336 seconds\n",
      "Sieved in 5.435638427734375 seconds\n",
      "Sieved in 5.497069597244263 seconds\n",
      "Sieved in 5.613363742828369 seconds\n",
      "Sieved in 4.939762353897095 seconds\n",
      "Sieved in 5.139155387878418 seconds\n",
      "Sieved in 5.128885507583618 seconds\n",
      "Sieved in 5.297325611114502 seconds\n",
      "Sieved in 5.156746864318848 seconds\n",
      "Sieved in 10.962610960006714 seconds\n",
      "Sieved in 4.886756181716919 seconds\n",
      "Sieved in 5.097150087356567 seconds\n",
      "Sieved in 4.917400598526001 seconds\n",
      "Sieved in 10.30669617652893 seconds\n"
     ]
    }
   ],
   "source": [
    "for i in range(0,50):\n",
    "    t1 = time.time()\n",
    "    min,A = squarefree5M8Partial(5+i*sieveBlockSize,-3+(i+1)*sieveBlockSize,primes(int((-3+(i+1)*sieveBlockSize)**0.5)+1)[1:])\n",
    "    np.save(\"squarefree numbers\\\\\"+str(min)+\".npy\",A)\n",
    "    t2 = time.time()\n",
    "    print(\"Sieved in\", t2-t1, \"seconds\")"
   ]
  },
  {
   "cell_type": "code",
   "execution_count": 5,
   "id": "029f96f0-f14a-4bc5-9f3b-9760fb379a23",
   "metadata": {},
   "outputs": [],
   "source": [
    "options = {\"mainDictSize\":700,\"giantStepMax\":10000,\"BLOOM_SIZE\":8192,\"NUM_HASHES\":3}"
   ]
  },
  {
   "cell_type": "code",
   "execution_count": null,
   "id": "be2dc368-f81e-4bf9-86b2-3d75b221cb52",
   "metadata": {},
   "outputs": [
    {
     "name": "stdout",
     "output_type": "stream",
     "text": [
      "101322 values from 5 to 999997\n"
     ]
    },
    {
     "name": "stderr",
     "output_type": "stream",
     "text": [
      "c:\\Users\\james\\AppData\\Local\\Programs\\Python\\Python312\\Lib\\site-packages\\pyopencl\\cache.py:495: CompilerWarning: Non-empty compiler output encountered. Set the environment variable PYOPENCL_COMPILER_OUTPUT=1 to see more.\n",
      "  _create_built_program_from_source_cached(\n"
     ]
    },
    {
     "name": "stdout",
     "output_type": "stream",
     "text": [
      "Finished in 0.511223554611206 seconds.\n",
      "Errors at []\n",
      "Error codes are []\n",
      "\n",
      "101323 values from 1000005 to 1999997\n",
      "Finished in 0.4315056800842285 seconds.\n",
      "Errors at []\n",
      "Error codes are []\n",
      "\n",
      "101314 values from 2000005 to 2999989\n",
      "Finished in 0.4490664005279541 seconds.\n",
      "Errors at []\n",
      "Error codes are []\n",
      "\n",
      "Final counts are [ 94641 104747 104571]\n",
      "Total time: 2.8845202922821045\n",
      "101298 values from 70000000005 to 70000999997\n"
     ]
    },
    {
     "name": "stderr",
     "output_type": "stream",
     "text": [
      "c:\\Users\\james\\AppData\\Local\\Programs\\Python\\Python312\\Lib\\site-packages\\pyopencl\\cache.py:495: CompilerWarning: Non-empty compiler output encountered. Set the environment variable PYOPENCL_COMPILER_OUTPUT=1 to see more.\n",
      "  _create_built_program_from_source_cached(\n"
     ]
    },
    {
     "name": "stdout",
     "output_type": "stream",
     "text": [
      "Finished in 4.326035022735596 seconds.\n",
      "Errors at []\n",
      "Error codes are []\n",
      "\n",
      "101318 values from 70001000005 to 70001999997\n",
      "Finished in 3.9508216381073 seconds.\n",
      "Errors at []\n",
      "Error codes are []\n",
      "\n",
      "101328 values from 70002000013 to 70002999989\n",
      "Finished in 3.6682498455047607 seconds.\n",
      "Errors at []\n",
      "Error codes are []\n",
      "\n",
      "Final counts are [100621 101639 101684]\n",
      "Total time: 12.666475534439087\n"
     ]
    }
   ],
   "source": [
    "for k in range(0,100,2):\n",
    "    t1 = time.time()\n",
    "    counts = np.array([0,0,0])\n",
    "    blockSize=10**6\n",
    "\n",
    "\n",
    "    list0=[]\n",
    "    list1=[]\n",
    "    list2=[]\n",
    "    outputBlockSize = 10**5\n",
    "    ratio = blockSize//outputBlockSize\n",
    "    m = k*10**9+5\n",
    "    A = np.load(\"squarefree numbers\\\\\"+str(m)+\".npy\")\n",
    "    for i in range(0,math.ceil(sieveBlockSize/blockSize)):\n",
    "        array = getBlock(m,A,False,blockSize//8,i)\n",
    "        #array = np.array([94000000013])\n",
    "        r,bstep,gstep=unitsGPU(array,options)\n",
    "        if (i==0 and k==0):\n",
    "            r[0] = 1\n",
    "        errorPlace = r<0\n",
    "        print(\"Errors at\",array[errorPlace])\n",
    "        print(\"Error codes are\",r[errorPlace])\n",
    "        #print(\"Results are\",r)\n",
    "        #print(\"Max baby steps needed:\",max(bstep))\n",
    "        #print(\"Average giant steps needed:\",gstep.mean())\n",
    "        print()\n",
    "        c=np.unique(r,return_counts=True)[1][-3:]\n",
    "        list0 += list(np.bincount(array[r==0]//(outputBlockSize))[-ratio:])\n",
    "        list1 += list(np.bincount(array[r==1]//(outputBlockSize))[-ratio:])\n",
    "        list2 += list(np.bincount(array[r==2]//(outputBlockSize))[-ratio:])\n",
    "        #print(\"Counts are:\",c)\n",
    "        counts += c\n",
    "    t2 = time.time()\n",
    "    print(\"Final counts are\",counts)\n",
    "    print(\"Total time:\", t2-t1)\n",
    "    df=pd.DataFrame([list0,list1,list2]).transpose()\n",
    "    index = (df.index+1)*outputBlockSize\n",
    "    df.index=index\n",
    "    df.to_csv(str(k)+\"_data.csv\")"
   ]
  },
  {
   "cell_type": "code",
   "execution_count": 10,
   "id": "5e851081-ddc7-42fc-b9b3-6359234dd770",
   "metadata": {},
   "outputs": [],
   "source": [
    "#list0=np.cumsum(list0)\n",
    "#list1=np.cumsum(list1)\n",
    "#list2=np.cumsum(list2)\n",
    "#realPart=list0-1/2*(list1+list2)\n",
    "#imagPart=math.sqrt(3)/2*(list1-list2)\n",
    "#t=list0+list1+list2\n",
    "#s=list1+list2\n",
    "#r=s/list0\n",
    "\n",
    "#df=pd.DataFrame([list0,list1,list2,realPart,imagPart,t,s,r]).transpose()\n",
    "df=pd.DataFrame([list0,list1,list2]).transpose()\n",
    "index = (df.index+1)*outputBlockSize\n",
    "df.index=index\n",
    "df.to_csv(\"testData.csv\")"
   ]
  },
  {
   "cell_type": "code",
   "execution_count": null,
   "id": "6f393303-8177-4828-891a-9727101cd3a2",
   "metadata": {},
   "outputs": [
    {
     "name": "stdout",
     "output_type": "stream",
     "text": [
      "0.013852357864379883\n"
     ]
    }
   ],
   "source": [
    "answers = []\n",
    "t1 = time.time()\n",
    "for i in array:\n",
    "    try:\n",
    "        Ff = reduceQP(i)\n",
    "        answers.append(Ff)\n",
    "    except:\n",
    "        print(i,\"Failed\")\n",
    "t2 = time.time()\n",
    "print(t2-t1)"
   ]
  },
  {
   "cell_type": "code",
   "execution_count": 10,
   "id": "92d113ab-47d8-4d37-84c6-31765104aba8",
   "metadata": {},
   "outputs": [],
   "source": [
    "def getLists(r, part):\n",
    "    if part == \"I\":\n",
    "        return [r==0,r==1,r==2],[0,math.sqrt(3)/2,-math.sqrt(3)/2]\n",
    "    elif part == \"R\":\n",
    "        return [r==0,True],[1,-1/2]\n",
    "def select(r, part):\n",
    "    l1, l2 = getLists(r, part)\n",
    "    return np.select(l1,l2,-999)"
   ]
  },
  {
   "cell_type": "code",
   "execution_count": 100,
   "id": "a85e2dc8-fad8-47c0-8096-09cef953c492",
   "metadata": {},
   "outputs": [
    {
     "data": {
      "text/plain": [
       "[<matplotlib.lines.Line2D at 0x27c595024b0>]"
      ]
     },
     "execution_count": 100,
     "metadata": {},
     "output_type": "execute_result"
    },
    {
     "data": {
      "image/png": "[encoded data removed]",
      "text/plain": [
       "<Figure size 640x480 with 1 Axes>"
      ]
     },
     "metadata": {},
     "output_type": "display_data"
    }
   ],
   "source": [
    "plt.plot(np.log(array[0::100]),np.cumsum(select(randomArray,\"R\"))[0::100])\n",
    "plt.plot(np.log(array[0::100]),np.cumsum(select(r,\"R\"))[0::100])\n",
    "#plt.plot(array[0::100],bestFitArray[0::100])"
   ]
  },
  {
   "cell_type": "code",
   "execution_count": 101,
   "id": "bc66b867-a8a3-4900-8eb4-0dd8a851c6bb",
   "metadata": {},
   "outputs": [],
   "source": [
    "bestFitArray=-3/(8*(np.pi**2))*np.power(array,5/6)"
   ]
  },
  {
   "cell_type": "code",
   "execution_count": 104,
   "id": "5d3838d4-086a-4af3-a608-ad6350e49f0c",
   "metadata": {},
   "outputs": [
    {
     "data": {
      "text/plain": [
       "[<matplotlib.lines.Line2D at 0x27c797b1dc0>]"
      ]
     },
     "execution_count": 104,
     "metadata": {},
     "output_type": "execute_result"
    },
    {
     "data": {
      "image/png": "[encoded data removed]",
      "text/plain": [
       "<Figure size 640x480 with 1 Axes>"
      ]
     },
     "metadata": {},
     "output_type": "display_data"
    }
   ],
   "source": [
    "plt.plot(array[0::100],np.cumsum(select(r,\"R\"))[0::100]-bestFitArray[0::100])"
   ]
  },
  {
   "cell_type": "code",
   "execution_count": 78,
   "id": "5c489e8e-74b7-4235-92e5-e507364658d4",
   "metadata": {},
   "outputs": [
    {
     "data": {
      "text/plain": [
       "array([3259668, 3437623, 3434823], dtype=int64)"
      ]
     },
     "execution_count": 78,
     "metadata": {},
     "output_type": "execute_result"
    }
   ],
   "source": [
    "c"
   ]
  },
  {
   "cell_type": "code",
   "execution_count": 89,
   "id": "d6917087-e2b7-416d-9abf-3111d1b0fbdf",
   "metadata": {},
   "outputs": [],
   "source": [
    "def estC(n):\n",
    "    return n/(np.pi)**2-1/(12*(np.pi)**2)*(4*n-3*(n**(5/6)))"
   ]
  },
  {
   "cell_type": "code",
   "execution_count": 99,
   "id": "b9b35386-a819-458d-80cd-bb7a12578c7f",
   "metadata": {},
   "outputs": [
    {
     "data": {
      "text/plain": [
       "68348470.05039348"
      ]
     },
     "execution_count": 99,
     "metadata": {},
     "output_type": "execute_result"
    }
   ],
   "source": [
    "estC(10**9)"
   ]
  },
  {
   "cell_type": "code",
   "execution_count": 74,
   "id": "170893d7-b531-4c15-b161-c0109e8e3da4",
   "metadata": {},
   "outputs": [
    {
     "data": {
      "text/plain": [
       "array([-5.000000e-01, -1.000000e+00, -1.500000e+00, ..., -1.765555e+05,\n",
       "       -1.765545e+05, -1.765550e+05])"
      ]
     },
     "execution_count": 74,
     "metadata": {},
     "output_type": "execute_result"
    }
   ],
   "source": [
    "np.cumsum(select(r,\"R\"))"
   ]
  },
  {
   "cell_type": "code",
   "execution_count": 77,
   "id": "5e52d706-759f-411e-84b1-4cfac3a6c748",
   "metadata": {},
   "outputs": [
    {
     "data": {
      "text/plain": [
       "[<matplotlib.lines.Line2D at 0x27c297d9790>]"
      ]
     },
     "execution_count": 77,
     "metadata": {},
     "output_type": "execute_result"
    },
    {
     "data": {
      "image/png": "[encoded data removed]",
      "text/plain": [
       "<Figure size 640x480 with 1 Axes>"
      ]
     },
     "metadata": {},
     "output_type": "display_data"
    }
   ],
   "source": [
    "plt.plot(array[0::100],np.cumsum(select(r,\"R\"))[0::100])\n",
    "plt.plot(array[0::100],bestFitArray[0::100])"
   ]
  },
  {
   "cell_type": "code",
   "execution_count": 23,
   "id": "37c8bde2-e769-429f-8036-8c9591ca84e0",
   "metadata": {},
   "outputs": [],
   "source": [
    "rootArray=array.copy()\n",
    "rootResult = r.copy()\n",
    "newArray = np.array([],dtype=\"int32\")\n",
    "newResult = np.array([],dtype=\"int32\")\n",
    "newBase = np.array([],dtype=\"int32\")\n",
    "n = 2\n",
    "while True:\n",
    "    lessRoot = rootArray<maximum**(1/n)\n",
    "    rootResult = rootResult[lessRoot]\n",
    "    if len(rootResult)==0:\n",
    "        break\n",
    "    rootArray = rootArray[lessRoot]\n",
    "    powerRootArray = rootArray**n\n",
    "    powerRootResult = (rootResult*n)%3\n",
    "    newArray = np.concatenate((newArray,powerRootArray))\n",
    "    newResult = np.concatenate((newResult,powerRootResult))\n",
    "    newBase = np.concatenate((newBase,rootArray))\n",
    "    n = n + 1\n",
    "newResult = np.concatenate((np.log(array)*select(r,\"R\"),np.log(newBase)*select(newResult,\"R\")))\n",
    "newArray = np.concatenate((array,newArray))\n",
    "argSortArray = np.argsort(newArray)\n",
    "newArray = newArray[argSortArray]\n",
    "newResult = newResult[argSortArray]\n",
    "psiArray = np.cumsum(newResult)"
   ]
  },
  {
   "cell_type": "code",
   "execution_count": 24,
   "id": "f5768116-5682-4a24-9bd4-5390743a6f9f",
   "metadata": {},
   "outputs": [
    {
     "data": {
      "text/plain": [
       "[<matplotlib.lines.Line2D at 0x27c78d2fd40>]"
      ]
     },
     "execution_count": 24,
     "metadata": {},
     "output_type": "execute_result"
    },
    {
     "data": {
      "image/png": "[encoded data removed]",
      "text/plain": [
       "<Figure size 640x480 with 1 Axes>"
      ]
     },
     "metadata": {},
     "output_type": "display_data"
    }
   ],
   "source": [
    "plt.plot(newArray[0::10],psiArray[0::10])\n",
    "#plt.plot(array[0::1000],bestFitArray[0::1000])"
   ]
  },
  {
   "cell_type": "code",
   "execution_count": null,
   "id": "6bf06f24-f84e-4434-8549-5bb60881ba22",
   "metadata": {},
   "outputs": [],
   "source": [
    "def sieve(upperLimit, primes):\n",
    "    r = np.array(list(range(2,upperLimit+1)),dtype=np.int64)\n",
    "    for p in primes:\n",
    "        r[2*p-2:upperLimit-1:p]=0\n",
    "    return r[r!=0]\n",
    "\n",
    "def GPUsieve(upperLimit, primes, context, queue, program):\n",
    "    result = np.array(list(range(2,upperLimit+1)),dtype=np.int64)\n",
    "    count = len(primes)\n",
    "    array_buf = cl.Buffer(context, cl.mem_flags.READ_ONLY | cl.mem_flags.COPY_HOST_PTR, hostbuf=primes)\n",
    "    result_buf = cl.Buffer(context, cl.mem_flags.WRITE_ONLY | cl.mem_flags.COPY_HOST_PTR, hostbuf=result)\n",
    "    kernel = program.sum_array\n",
    "    kernel.set_arg(0, array_buf)\n",
    "    kernel.set_arg(1, result_buf)\n",
    "    kernel.set_arg(2, np.int64(upperLimit))\n",
    "    global_size = (count,)\n",
    "    cl.enqueue_nd_range_kernel(queue, kernel, global_size, None)\n",
    "    cl.enqueue_copy(queue, result, result_buf)\n",
    "    queue.finish()\n",
    "    \n",
    "    return result[result!=0]\n",
    "\n",
    "\n",
    "def fullGPUSieve(upperLimit,context,queue,program):\n",
    "    if upperLimit < 10:\n",
    "        return np.array([i for i in range(2,upperLimit+1) if prime(i)],dtype=np.int64)\n",
    "    else:\n",
    "        return GPUsieve(upperLimit,fullSieve(math.floor(math.sqrt(upperLimit))),context,queue,program)\n",
    "\n",
    "def GPUstartArray(n):\n",
    "    context = cl.create_some_context()\n",
    "    queue = cl.CommandQueue(context)\n",
    "    with open(\"sieve.c\",\"r\") as file:\n",
    "        program_src = file.read()\n",
    "    program = cl.Program(context, program_src).build()\n",
    "    return pick5M8(fullGPUSieve(n,context,queue,program))[1:]\n",
    "\n",
    "def squarefree(n):\n",
    "    for i in range(2,math.ceil(math.sqrt(n))+1):\n",
    "        if n%(i**2)==0:\n",
    "            return False\n",
    "    return True\n",
    "\n",
    "def prime(n):\n",
    "    if n==1:\n",
    "        return False\n",
    "    for i in range(2,math.floor(math.sqrt(n))+1):\n",
    "        if n%i==0:\n",
    "            return False\n",
    "    return True\n",
    "\n",
    "def fullSieve(upperLimit):\n",
    "    if upperLimit < 10:\n",
    "        return np.array([i for i in range(2,upperLimit+1) if prime(i)],dtype=np.int64)\n",
    "    else:\n",
    "        return sieve(upperLimit,fullSieve(math.floor(math.sqrt(upperLimit))))\n",
    "\n",
    "def pick5M8(array):\n",
    "    return array[(array%8)==5]\n",
    "\n",
    "def startArray(n):\n",
    "    return pick5M8(fullSieve(n))[1:]\n",
    "\n",
    "\n",
    "'''start = 13\n",
    "end = 2**20\n",
    "t1 = time.time()\n",
    "array = startArray(end)\n",
    "print(len(array))\n",
    "t2 = time.time()\n",
    "t2 - t1'''"
   ]
  },
  {
   "cell_type": "code",
   "execution_count": null,
   "id": "40bedd0b-c35b-4fd8-9f7f-32c340331f53",
   "metadata": {},
   "outputs": [],
   "source": []
  }
 ],
 "metadata": {
  "kernelspec": {
   "display_name": "Python 3",
   "language": "python",
   "name": "python3"
  },
  "language_info": {
   "codemirror_mode": {
    "name": "ipython",
    "version": 3
   },
   "file_extension": ".py",
   "mimetype": "text/x-python",
   "name": "python",
   "nbconvert_exporter": "python",
   "pygments_lexer": "ipython3",
   "version": "3.12.2"
  }
 },
 "nbformat": 4,
 "nbformat_minor": 5
}
